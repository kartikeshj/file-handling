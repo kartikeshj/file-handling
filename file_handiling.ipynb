{
  "nbformat": 4,
  "nbformat_minor": 0,
  "metadata": {
    "colab": {
      "provenance": []
    },
    "kernelspec": {
      "name": "python3",
      "display_name": "Python 3"
    },
    "language_info": {
      "name": "python"
    }
  },
  "cells": [
    {
      "cell_type": "code",
      "execution_count": null,
      "metadata": {
        "id": "F6Mh2cu2YrTE"
      },
      "outputs": [],
      "source": []
    },
    {
      "cell_type": "markdown",
      "source": [
        "\n",
        "\n",
        "1️ What is the difference between interpreted and compiled languages?\n",
        "- Compiled languages (e.g., C, C++) are translated into machine code before execution. This results in faster runtime but slower development cycles.\n",
        "- Interpreted languages (e.g., Python, JavaScript) are executed line-by-line by an interpreter, offering flexibility and easier debugging but slower performance.\n",
        "\n",
        "2 What is exception handling in Python?\n",
        "- Exception handling allows you to manage runtime errors gracefully using try, except, else, and finally blocks.\n",
        "- It prevents abrupt program termination and enables custom error responses.\n",
        "\n",
        "3️ What is the purpose of the finally block in exception handling?\n",
        "- The finally block executes regardless of whether an exception occurred.\n",
        "- It's ideal for cleanup tasks like closing files or releasing resources.\n",
        "try:\n",
        "    f = open(\"data.txt\")\n",
        "    \n",
        "except FileNotFoundError:\n",
        "    print(\"File not found.\")\n",
        "finally:\n",
        "    f.close()\n",
        "\n",
        "\n",
        "\n",
        "4 What is logging in Python?\n",
        "- Logging records events during program execution.\n",
        "- It helps in debugging, auditing, and monitoring applications.\n",
        "\n",
        "5️ What is the significance of the __del__ method in Python?\n",
        "- __del__ is a destructor method called when an object is about to be destroyed.\n",
        "- It’s used for cleanup, but relying on it is discouraged due to unpredictable garbage collection timing.\n",
        "\n",
        "6️ What is the difference between import and from ... import in Python?\n",
        "- import module loads the entire module.\n",
        "- from module import function loads specific components.\n",
        "import math\n",
        "print(math.sqrt(16))\n",
        "\n",
        "from math import sqrt\n",
        "print(sqrt(16))\n",
        "\n",
        "\n",
        "\n",
        "7️ How can you handle multiple exceptions in Python?\n",
        "- Use multiple except blocks or a tuple of exceptions.\n",
        "try:\n",
        "    \n",
        "except (ValueError, TypeError) as e:\n",
        "    print(f\"Handled: {e}\")\n",
        "\n",
        "\n",
        "\n",
        "8️ What is the purpose of the with statement when handling files in Python?\n",
        "- It ensures proper acquisition and release of resources.\n",
        "- Automatically closes the file, even if exceptions occur.\n",
        "with open(\"data.txt\") as f:\n",
        "    content = f.read()\n",
        "\n",
        "\n",
        "\n",
        "9️ What is the difference between multithreading and multiprocessing?\n",
        "\n",
        " Absolutely—let’s break it down clearly without a table.\n",
        "Multithreading and multiprocessing are both ways to run multiple tasks concurrently, but they differ in how they achieve that and what they’re best suited for.\n",
        "\n",
        " Multithreading\n",
        "Multithreading involves running multiple threads within the same process. These threads share the same memory space, which makes communication between them fast and easy. However, in Python, multithreading is limited by something called the Global Interpreter Lock (GIL). This lock allows only one thread to execute Python bytecode at a time, which means multithreading doesn’t offer true parallelism for CPU-bound tasks. It’s best used for I/O-bound operations—like reading files, making network requests, or waiting for user input—where the program spends time waiting and can benefit from overlapping tasks.\n",
        "\n",
        " Multiprocessing\n",
        "Multiprocessing, on the other hand, uses multiple processes, each with its own memory space. This means they don’t share data directly, but they can run truly in parallel on multiple CPU cores. This makes multiprocessing ideal for CPU-bound tasks—like complex calculations, data analysis, or image processing—where you want to fully utilize your machine’s processing power. Since each process is isolated, it also provides better fault tolerance: if one crashes, it doesn’t take down the others.\n",
        "\n",
        "\n",
        "\n",
        "\n",
        "\n",
        "\n",
        "10. What are the advantages of using logging in a program?\n",
        "- Tracks application flow\n",
        "- Helps diagnose issues\n",
        "- Enables persistent records\n",
        "- Supports different severity levels\n",
        "\n",
        "1️1 What is memory management in Python?\n",
        "- Python uses automatic memory management via reference counting and garbage collection.\n",
        "- It allocates, tracks, and frees memory as needed.\n",
        "\n",
        "1️2️ What are the basic steps involved in exception handling in Python?\n",
        "- Wrap risky code in a try block.\n",
        "- Catch exceptions using except.\n",
        "- Optionally use else for code that runs if no exception occurs.\n",
        "- Use finally for cleanup.\n",
        "\n",
        "1️3️ Why is memory management important in Python?\n",
        "- Prevents memory leaks\n",
        "- Ensures efficient resource usage\n",
        "- Improves performance and stability\n",
        "\n",
        "1️4️ What is the role of try and except in exception handling?\n",
        "- try: encloses code that might raise an exception.\n",
        "- except: handles specific exceptions and prevents crashes.\n",
        "\n",
        "1️5️ How does Python's garbage collection system work?\n",
        "- Uses reference counting and a cyclic garbage collector.\n",
        "- Automatically frees memory occupied by unreachable objects.\n",
        "\n",
        "1️6️ What is the purpose of the else block in exception handling?\n",
        "- Executes only if no exception occurs in the try block.\n",
        "try:\n",
        "    result = 10 / 2\n",
        "except ZeroDivisionError:\n",
        "    print(\"Error\")\n",
        "else:\n",
        "    print(\"Success:\", result)\n",
        "\n",
        "\n",
        "\n",
        "1️7️ What are the common logging levels in Python?\n",
        "  - DEBUG is the most granular level. It’s used for detailed information, typically useful only during development or troubleshooting. Think of it as the “behind-the-scenes” log.\n",
        "- INFO is for general events that confirm the program is working as expected. You’d use this to log successful operations, like “User logged in” or “Data saved.”\n",
        "- WARNING flags something unexpected or potentially problematic, but not necessarily an error. For example, “Disk space low” or “Deprecated API used.”\n",
        "- ERROR indicates a serious issue that prevented part of the program from functioning. This might be a failed database connection or a missing file.\n",
        "- CRITICAL is the highest level, reserved for severe errors that may cause the program to crash or require immediate attention—like a system failure or data corruption.\n",
        "\n",
        "\n",
        "\n",
        "\n",
        "\n",
        "1️8️ What is the difference between os.fork() and multiprocessing in Python?\n",
        "- os.fork() creates a child process (Unix only), low-level and manual.\n",
        "- multiprocessing is cross-platform, high-level, and safer for parallelism.\n",
        "\n",
        "1️9️ What is the importance of closing a file in Python?\n",
        "- Frees system resources\n",
        "- Ensures data is written to disk\n",
        "- Prevents file corruption\n",
        "\n",
        "2️0️ What is the difference between file.read() and file.readline() in Python?\n",
        "- read(): reads entire file or specified number of bytes.\n",
        "- readline(): reads one line at a time.\n",
        "\n",
        "2️1️ What is the logging module in Python used for?\n",
        "- Provides a flexible framework for emitting log messages.\n",
        "- Supports handlers, formatters, and filters.\n",
        "\n",
        "2️2 What is the os module in Python used for in file handling?\n",
        "- Interacts with the operating system.\n",
        "- Useful for file paths, environment variables, and directory operations.\n",
        "import os\n",
        "os.remove(\"old_file.txt\")\n",
        "\n",
        "\n",
        "\n",
        "23 What are the challenges associated with memory management in Python?\n",
        "- Circular references\n",
        "- Hidden memory leaks in large applications\n",
        "- Performance overhead of garbage collection\n",
        "\n",
        "2️4 How do you raise an exception manually in Python?\n",
        "Use the raise keyword:\n",
        "raise ValueError(\"Invalid input\")\n",
        "\n",
        "\n",
        "\n",
        "2️5 Why is it important to use multithreading in certain applications?\n",
        "- Enhances responsiveness in I/O-bound tasks\n",
        "- Allows concurrent execution\n",
        "- Useful in GUI apps, network operations, and real-time systems\n",
        "\n"
      ],
      "metadata": {
        "id": "hpeDTzRgYuPm"
      }
    },
    {
      "cell_type": "markdown",
      "source": [
        "**PRACTICLE QUESTION**"
      ],
      "metadata": {
        "id": "0W7qwYgQZWDm"
      }
    },
    {
      "cell_type": "markdown",
      "source": [
        "1.How can you open a file for writing in Python and write a string to it"
      ],
      "metadata": {
        "id": "iL6okq9QZhyn"
      }
    },
    {
      "cell_type": "code",
      "source": [
        "with open(\"example.txt\", \"w\") as file:\n",
        "    file.write(\"Hello, Kartikesh! This is log entry.\")"
      ],
      "metadata": {
        "id": "X4Iu10WhZtsa"
      },
      "execution_count": null,
      "outputs": []
    },
    {
      "cell_type": "markdown",
      "source": [
        "2.Write a Python program to read the contents of a file and print each line"
      ],
      "metadata": {
        "id": "1019qiL9ZyOz"
      }
    },
    {
      "cell_type": "code",
      "source": [
        "\n",
        "with open(\"example.txt\", \"r\") as file:\n",
        "    for line in file:\n",
        "        print(line.strip())"
      ],
      "metadata": {
        "id": "PsAShPRxZ5oG"
      },
      "execution_count": null,
      "outputs": []
    },
    {
      "cell_type": "markdown",
      "source": [
        " 3.How would you handle a case where the file doesn't exist while trying to open it for reading?"
      ],
      "metadata": {
        "id": "PXL6ONIj9EFO"
      }
    },
    {
      "cell_type": "code",
      "source": [
        "try:\n",
        "    with open('example.txt', 'r') as file:\n",
        "        content = file.read()\n",
        "except FileNotFoundError:\n",
        "    print(\"The file does not exist. Please check the filename or path.\")"
      ],
      "metadata": {
        "id": "Syu3IB-69HpH"
      },
      "execution_count": null,
      "outputs": []
    },
    {
      "cell_type": "markdown",
      "source": [
        "  `4.Write a Python script that reads from one file and writes its content to another file?"
      ],
      "metadata": {
        "id": "PmML1iaf9I-m"
      }
    },
    {
      "cell_type": "code",
      "source": [
        "def copy_file(source_path, destination_path):\n",
        "    try:\n",
        "        with open(source_path, 'r') as source_file:\n",
        "            content = source_file.read()\n",
        "\n",
        "        with open(destination_path, 'w') as destination_file:\n",
        "            destination_file.write(content)\n",
        "\n",
        "        print(f\"Content successfully copied from '{source_path}' to '{destination_path}'.\")\n",
        "\n",
        "    except FileNotFoundError:\n",
        "        print(f\"Error: The file '{source_path}' does not exist.\")\n",
        "    except IOError as e:\n",
        "        print(f\"I/O error occurred: {e}\")\n",
        "\n",
        "\n",
        "copy_file('input.txt', 'output.txt')"
      ],
      "metadata": {
        "id": "dox_nqFl9dbf"
      },
      "execution_count": null,
      "outputs": []
    },
    {
      "cell_type": "markdown",
      "source": [
        " 5.How would you catch and handle division by zero error in Python?"
      ],
      "metadata": {
        "id": "6TiorXTx9mNZ"
      }
    },
    {
      "cell_type": "code",
      "source": [
        "def safe_divide(a, b):\n",
        "    try:\n",
        "        result = a / b\n",
        "        print(f\"Result: {result}\")\n",
        "    except ZeroDivisionError:\n",
        "        print(\"Error: Cannot divide by zero.\")\n",
        "    except TypeError:\n",
        "        print(\"Error: Both inputs must be numbers.\")\n",
        "\n",
        "safe_divide(10, 2)\n",
        "safe_divide(10, 0)"
      ],
      "metadata": {
        "id": "5Bi3BJge9seR"
      },
      "execution_count": null,
      "outputs": []
    },
    {
      "cell_type": "markdown",
      "source": [
        "6. Write a Python program that logs an error message to a log file when a division by zero exception occurs?"
      ],
      "metadata": {
        "id": "OgNfJLuv949l"
      }
    },
    {
      "cell_type": "code",
      "source": [
        "import logging\n",
        "\n",
        "\n",
        "logging.basicConfig(\n",
        "    filename='error_log.txt',\n",
        "    level=logging.ERROR,\n",
        "    format='%(asctime)s - %(levelname)s - %(message)s'\n",
        ")\n",
        "\n",
        "def divide(a, b):\n",
        "    try:\n",
        "        result = a / b\n",
        "        print(f\"Result: {result}\")\n",
        "    except ZeroDivisionError as e:\n",
        "        logging.error(\"Attempted to divide by zero.\")\n",
        "        print(\"Error: Cannot divide by zero. Check the log for details.\")\n",
        "\n",
        "\n",
        "divide(10, 2)\n",
        "divide(5, 0)"
      ],
      "metadata": {
        "id": "i59RBv3197i1"
      },
      "execution_count": null,
      "outputs": []
    },
    {
      "cell_type": "markdown",
      "source": [
        "7.How do you log information at different levels (INFO, ERROR, WARNING) in Python using the logging module?"
      ],
      "metadata": {
        "id": "ENmqVcUF-Juj"
      }
    },
    {
      "cell_type": "code",
      "source": [
        "import logging\n",
        "\n",
        "\n",
        "logging.basicConfig(\n",
        "    filename='app.log',\n",
        "    level=logging.DEBUG,\n",
        "    format='%(asctime)s - %(levelname)s - %(message)s'\n",
        ")\n",
        "\n",
        "\n",
        "logging.debug(\"This is a DEBUG message — useful for diagnosing problems.\")\n",
        "logging.info(\"This is an INFO message — general updates or confirmations.\")\n",
        "logging.warning(\"This is a WARNING message — something unexpected but not breaking.\")\n",
        "logging.error(\"This is an ERROR message — a serious issue that needs attention.\")\n",
        "logging.critical(\"This is a CRITICAL message — system failure or crash imminent.\")"
      ],
      "metadata": {
        "id": "Kpvf7Phv-Qlj"
      },
      "execution_count": null,
      "outputs": []
    },
    {
      "cell_type": "markdown",
      "source": [
        "8. Write a program to handle a file opening error using exception handling?"
      ],
      "metadata": {
        "id": "Q5MXc_Dr-dCU"
      }
    },
    {
      "cell_type": "code",
      "source": [
        "def read_file(filename):\n",
        "    try:\n",
        "        with open(filename, 'r') as file:\n",
        "            content = file.read()\n",
        "            print(\"File content:\\n\", content)\n",
        "    except FileNotFoundError:\n",
        "        print(f\"Error: The file '{filename}' was not found.\")\n",
        "    except PermissionError:\n",
        "        print(f\"Error: Permission denied when trying to open '{filename}'.\")\n",
        "    except Exception as e:\n",
        "        print(f\"An unexpected error occurred: {e}\")\n",
        "\n",
        "\n",
        "read_file('nonexistent_file.txt')"
      ],
      "metadata": {
        "id": "n4KDb2W8-jOU"
      },
      "execution_count": null,
      "outputs": []
    },
    {
      "cell_type": "markdown",
      "source": [
        "9. How can you read a file line by line and store its content in a list in Python?"
      ],
      "metadata": {
        "id": "9SrG-mIb-ox4"
      }
    },
    {
      "cell_type": "code",
      "source": [
        "def read_lines_to_list(filename):\n",
        "    try:\n",
        "        with open(filename, 'r') as file:\n",
        "            lines = file.readlines()\n",
        "\n",
        "            lines = [line.strip() for line in lines]\n",
        "        return lines\n",
        "    except FileNotFoundError:\n",
        "        print(f\"Error: File '{filename}' not found.\")\n",
        "        return []\n",
        "    except Exception as e:\n",
        "        print(f\"Unexpected error: {e}\")\n",
        "        return []\n",
        "\n",
        "\n",
        "file_contents = read_lines_to_list('example.txt')\n",
        "print(file_contents)"
      ],
      "metadata": {
        "id": "EEd_0PSX-vp1"
      },
      "execution_count": null,
      "outputs": []
    },
    {
      "cell_type": "markdown",
      "source": [
        "10.How can you append data to an existing file in Python?"
      ],
      "metadata": {
        "id": "ad6kEg1_-2ts"
      }
    },
    {
      "cell_type": "code",
      "source": [
        "def append_to_file(filename, data):\n",
        "    try:\n",
        "        with open(filename, 'a') as file:\n",
        "            file.write(data + '\\n')\n",
        "        print(f\"Data successfully appended to '{filename}'.\")\n",
        "    except Exception as e:\n",
        "        print(f\"An error occurred: {e}\")\n",
        "\n",
        "append_to_file('log.txt', 'New log entry at 11:08 AM')"
      ],
      "metadata": {
        "id": "AN1_7njB_AUK"
      },
      "execution_count": null,
      "outputs": []
    },
    {
      "cell_type": "markdown",
      "source": [
        "11. Write a Python program that uses a try-except block to handle an error when attempting to access a\n",
        "dictionary key that doesn't exist?"
      ],
      "metadata": {
        "id": "uPykTvGy_DrL"
      }
    },
    {
      "cell_type": "code",
      "source": [
        "def get_value_from_dict(my_dict, key):\n",
        "    try:\n",
        "        value = my_dict[key]\n",
        "        print(f\"The value for '{key}' is: {value}\")\n",
        "    except KeyError:\n",
        "        print(f\"Error: The key '{key}' does not exist in the dictionary.\")\n",
        "\n",
        "\n",
        "data = {\n",
        "    'name': 'Aarav',\n",
        "    'age': 28,\n",
        "    'city': 'Mumbai'\n",
        "}\n",
        "\n",
        "get_value_from_dict(data, 'name')\n",
        "get_value_from_dict(data, 'country')"
      ],
      "metadata": {
        "id": "vujp_fRa_Isj"
      },
      "execution_count": null,
      "outputs": []
    },
    {
      "cell_type": "markdown",
      "source": [
        "12. Write a program that demonstrates using multiple except blocks to handle different types of exceptions?"
      ],
      "metadata": {
        "id": "BYMSnho1_PeV"
      }
    },
    {
      "cell_type": "code",
      "source": [
        "def process_data():\n",
        "    try:\n",
        "\n",
        "        num = int(input(\"Enter a number to divide 100 by: \"))\n",
        "        result = 100 / num\n",
        "        print(f\"Result: {result}\")\n",
        "\n",
        "\n",
        "        sample_dict = {'name': 'Aarav'}\n",
        "        print(\"City:\", sample_dict['city'])\n",
        "\n",
        "    except ZeroDivisionError:\n",
        "        print(\"Error: You can't divide by zero.\")\n",
        "    except ValueError:\n",
        "        print(\"Error: Invalid input. Please enter a numeric value.\")\n",
        "    except KeyError as e:\n",
        "        print(f\"Error: Missing key in dictionary — {e}\")\n",
        "    except Exception as e:\n",
        "        print(f\"Unexpected error: {e}\")\n",
        "process_data()"
      ],
      "metadata": {
        "id": "XNNZnPik_VXU"
      },
      "execution_count": null,
      "outputs": []
    },
    {
      "cell_type": "markdown",
      "source": [
        "13. How would you check if a file exists before attempting to read it in Python?"
      ],
      "metadata": {
        "id": "hw2ACkXj_bfa"
      }
    },
    {
      "cell_type": "code",
      "source": [
        "import os\n",
        "\n",
        "filename = 'example.txt'\n",
        "\n",
        "if os.path.exists(filename):\n",
        "    with open(filename, 'r') as file:\n",
        "        content = file.read()\n",
        "        print(content)\n",
        "else:\n",
        "    print(f\"Error: File '{filename}' does not exist.\")"
      ],
      "metadata": {
        "id": "3rY9wzCD_l7d"
      },
      "execution_count": null,
      "outputs": []
    },
    {
      "cell_type": "markdown",
      "source": [
        "14.Write a program that uses the logging module to log both informational and error messages?"
      ],
      "metadata": {
        "id": "-2Dsq1vd_t5w"
      }
    },
    {
      "cell_type": "code",
      "source": [
        "import logging\n",
        "\n",
        "\n",
        "logging.basicConfig(\n",
        "    filename='app.log',\n",
        "    level=logging.DEBUG,\n",
        "    format='%(asctime)s - %(levelname)s - %(message)s'\n",
        ")\n",
        "\n",
        "def divide(a, b):\n",
        "    logging.info(f\"Attempting to divide {a} by {b}\")\n",
        "    try:\n",
        "        result = a / b\n",
        "        logging.info(f\"Division successful: {a} / {b} = {result}\")\n",
        "        return result\n",
        "    except ZeroDivisionError:\n",
        "        logging.error(\"Division by zero error occurred.\")\n",
        "        return None\n",
        "    except Exception as e:\n",
        "        logging.error(f\"Unexpected error: {e}\")\n",
        "        return None\n",
        "\n",
        "\n",
        "divide(10, 2)\n",
        "divide(5, 0)"
      ],
      "metadata": {
        "id": "nhqcZiHY_y7C"
      },
      "execution_count": null,
      "outputs": []
    },
    {
      "cell_type": "markdown",
      "source": [
        "15. Write a Python program that prints the content of a file and handles the case when the file is empty?"
      ],
      "metadata": {
        "id": "ixnkVW5wAUMr"
      }
    },
    {
      "cell_type": "code",
      "source": [
        "def print_file_content(filename):\n",
        "    try:\n",
        "        with open(filename, 'r') as file:\n",
        "            content = file.read()\n",
        "            if content.strip():\n",
        "                print(\"File Content:\\n\")\n",
        "                print(content)\n",
        "            else:\n",
        "                print(f\"The file '{filename}' is empty.\")\n",
        "    except FileNotFoundError:\n",
        "        print(f\"Error: The file '{filename}' does not exist.\")\n",
        "    except PermissionError:\n",
        "        print(f\"Error: Permission denied when accessing '{filename}'.\")\n",
        "    except Exception as e:\n",
        "        print(f\"An unexpected error occurred: {e}\")\n",
        "\n",
        "\n",
        "print_file_content('example.txt')"
      ],
      "metadata": {
        "id": "LK697a2IAa7Z"
      },
      "execution_count": null,
      "outputs": []
    },
    {
      "cell_type": "markdown",
      "source": [
        "16.Demonstrate how to use memory profiling to check the memory usage of a small program?"
      ],
      "metadata": {
        "id": "igPZHRwIAfvP"
      }
    },
    {
      "cell_type": "code",
      "source": [
        "\n",
        "\n",
        "from memory_profiler import profile\n",
        "\n",
        "@profile\n",
        "def generate_data():\n",
        "\n",
        "    data = [x ** 2 for x in range(1000000)]\n",
        "    return data\n",
        "\n",
        "if __name__ == \"__main__\":\n",
        "    generate_data()"
      ],
      "metadata": {
        "id": "rtcyKWE8AlIa"
      },
      "execution_count": null,
      "outputs": []
    },
    {
      "cell_type": "markdown",
      "source": [
        "17.Write a Python program to create and write a list of numbers to a file, one number per line?"
      ],
      "metadata": {
        "id": "AJdrcsqZA6b0"
      }
    },
    {
      "cell_type": "code",
      "source": [
        "def write_numbers_to_file(filename, numbers):\n",
        "    try:\n",
        "        with open(filename, 'w') as file:\n",
        "            for number in numbers:\n",
        "                file.write(f\"{number}\\n\")\n",
        "        print(f\"Successfully wrote {len(numbers)} numbers to '{filename}'.\")\n",
        "    except Exception as e:\n",
        "        print(f\"An error occurred: {e}\")\n",
        "\n",
        "\n",
        "number_list = list(range(1, 11))\n",
        "write_numbers_to_file('numbers.txt', number_list)"
      ],
      "metadata": {
        "id": "GHUmzJr_BA2o"
      },
      "execution_count": null,
      "outputs": []
    },
    {
      "cell_type": "markdown",
      "source": [
        "18. How would you implement a basic logging setup that logs to a file with rotation after 1MB?"
      ],
      "metadata": {
        "id": "W2RZopXhBIqy"
      }
    },
    {
      "cell_type": "code",
      "source": [
        "import logging\n",
        "from logging.handlers import RotatingFileHandler\n",
        "\n",
        "\n",
        "log_handler = RotatingFileHandler(\n",
        "    filename='app.log',\n",
        "    maxBytes=1_000_000,\n",
        "    backupCount=3\n",
        ")\n",
        "\n",
        "\n",
        "logging.basicConfig(\n",
        "    level=logging.INFO,\n",
        "    format='%(asctime)s - %(levelname)s - %(message)s',\n",
        "    handlers=[log_handler]\n",
        ")\n",
        "\n",
        "\n",
        "logging.info(\"Application started.\")\n",
        "for i in range(10000):\n",
        "    logging.info(f\"Logging event number {i}\")\n",
        "logging.error(\"An error occurred.\")"
      ],
      "metadata": {
        "id": "ya5IHutSBVbW"
      },
      "execution_count": null,
      "outputs": []
    },
    {
      "cell_type": "markdown",
      "source": [
        "19. Write a program that handles both IndexError and KeyError using a try-except block?"
      ],
      "metadata": {
        "id": "e-hSEjZEBfZY"
      }
    },
    {
      "cell_type": "code",
      "source": [
        "def handle_errors():\n",
        "    my_list = [10, 20, 30]\n",
        "    my_dict = {'name': 'Aarav', 'age': 28}\n",
        "\n",
        "    try:\n",
        "\n",
        "        print(\"List item:\", my_list[5])\n",
        "    except IndexError:\n",
        "        print(\"IndexError: Tried to access an index that doesn't exist in the list.\")\n",
        "\n",
        "    try:\n",
        "\n",
        "        print(\"City:\", my_dict['city'])\n",
        "    except KeyError:\n",
        "        print(\"KeyError: Tried to access a key that doesn't exist in the dictionary.\")\n",
        "\n",
        "handle_errors()"
      ],
      "metadata": {
        "id": "bjBW_jR3BnUn"
      },
      "execution_count": null,
      "outputs": []
    },
    {
      "cell_type": "markdown",
      "source": [
        "20.How would you open a file and read its contents using a context manager in Python?"
      ],
      "metadata": {
        "id": "lws47Oc1BrtP"
      }
    },
    {
      "cell_type": "code",
      "source": [
        "filename = 'example.txt'\n",
        "\n",
        "try:\n",
        "    with open(filename, 'r') as file:\n",
        "        content = file.read()\n",
        "        print(\"File Content:\\n\")\n",
        "        print(content)\n",
        "except FileNotFoundError:\n",
        "    print(f\"Error: The file '{filename}' does not exist.\")\n",
        "except Exception as e:\n",
        "    print(f\"An unexpected error occurred: {e}\")"
      ],
      "metadata": {
        "id": "41M7UHqvBvtG"
      },
      "execution_count": null,
      "outputs": []
    },
    {
      "cell_type": "markdown",
      "source": [
        "21. Write a Python program that reads a file and prints the number of occurrences of a specific word?"
      ],
      "metadata": {
        "id": "IVuEIg6JB0Tl"
      }
    },
    {
      "cell_type": "code",
      "source": [
        "def count_word_in_file(filename, target_word):\n",
        "    try:\n",
        "        with open(filename, 'r') as file:\n",
        "            content = file.read().lower()\n",
        "            words = content.split()\n",
        "            count = words.count(target_word.lower())\n",
        "            print(f\"The word '{target_word}' occurs {count} times in '{filename}'.\")\n",
        "    except FileNotFoundError:\n",
        "        print(f\"Error: File '{filename}' not found.\")\n",
        "    except Exception as e:\n",
        "        print(f\"An unexpected error occurred: {e}\")\n",
        "\n",
        "\n",
        "count_word_in_file('sample.txt', 'python')"
      ],
      "metadata": {
        "id": "SSNWpbDQB746"
      },
      "execution_count": null,
      "outputs": []
    },
    {
      "cell_type": "markdown",
      "source": [
        "22. How can you check if a file is empty before attempting to read its contents?"
      ],
      "metadata": {
        "id": "eS3E8ilBCAwW"
      }
    },
    {
      "cell_type": "code",
      "source": [
        "import os\n",
        "\n",
        "filename = 'example.txt'\n",
        "\n",
        "if os.path.exists(filename):\n",
        "    if os.path.getsize(filename) == 0:\n",
        "        print(f\"The file '{filename}' is empty.\")\n",
        "    else:\n",
        "        with open(filename, 'r') as file:\n",
        "            content = file.read()\n",
        "            print(\"File Content:\\n\", content)\n",
        "else:\n",
        "    print(f\"Error: File '{filename}' does not exist.\")"
      ],
      "metadata": {
        "id": "OwWsu9pECIzy"
      },
      "execution_count": null,
      "outputs": []
    },
    {
      "cell_type": "markdown",
      "source": [
        "23. Write a Python program that writes to a log file when an error occurs during file handling"
      ],
      "metadata": {
        "id": "ep3158r4CMWk"
      }
    },
    {
      "cell_type": "code",
      "source": [
        "import logging\n",
        "\n",
        "\n",
        "logging.basicConfig(\n",
        "    filename='file_errors.log',\n",
        "    level=logging.ERROR,\n",
        "    format='%(asctime)s - %(levelname)s - %(message)s'\n",
        ")\n",
        "\n",
        "def read_file(filename):\n",
        "    try:\n",
        "        with open(filename, 'r') as file:\n",
        "            content = file.read()\n",
        "            print(\"File Content:\\n\", content)\n",
        "    except FileNotFoundError:\n",
        "        logging.error(f\"File '{filename}' not found.\")\n",
        "        print(f\"Error: File '{filename}' does not exist.\")\n",
        "    except PermissionError:\n",
        "        logging.error(f\"Permission denied for file '{filename}'.\")\n",
        "        print(f\"Error: Permission denied for file '{filename}'.\")\n",
        "    except Exception as e:\n",
        "        logging.error(f\"Unexpected error while reading '{filename}': {e}\")\n",
        "        print(f\"An unexpected error occurred: {e}\")\n",
        "\n",
        "\n",
        "read_file('nonexistent.txt')"
      ],
      "metadata": {
        "id": "arS_HOvZCQhP"
      },
      "execution_count": null,
      "outputs": []
    }
  ]
}